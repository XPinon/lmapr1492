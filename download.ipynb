{
 "cells": [
  {
   "cell_type": "code",
   "execution_count": 29,
   "id": "vocal-dream",
   "metadata": {},
   "outputs": [],
   "source": [
    "from pymatgen import Lattice, Structure\n",
    "from pymatgen.ext.matproj import MPRester\n",
    "from pymatgen.symmetry.analyzer import SpacegroupAnalyzer\n",
    "\n",
    "from jupyter_jsmol.pymatgen import quick_view"
   ]
  },
  {
   "cell_type": "code",
   "execution_count": 30,
   "id": "classified-allowance",
   "metadata": {},
   "outputs": [],
   "source": [
    "struct = Structure.from_file(\"RbTlO2_mp-8176_symmetrized.cif\")"
   ]
  },
  {
   "cell_type": "code",
   "execution_count": 31,
   "id": "particular-brush",
   "metadata": {},
   "outputs": [],
   "source": [
    "#with MPRester(\"USER_API_KEY\") as m:\n",
    "\n",
    "    # Structure for material id\n",
    "    #structure = m.get_structure_by_material_id(\"mp-8176\")\n",
    "\n",
    "    # Dos for material id\n",
    "    #dos = m.get_dos_by_material_id(\"mp-8176\")\n",
    "\n",
    "    # Bandstructure for material id\n",
    "    #bandstructure = m.get_bandstructure_by_material_id(\"mp-8176\")"
   ]
  },
  {
   "cell_type": "code",
   "execution_count": 32,
   "id": "departmental-control",
   "metadata": {},
   "outputs": [
    {
     "data": {
      "application/vnd.jupyter.widget-view+json": {
       "model_id": "86a9f729f780420b81fed0d7acac59bf",
       "version_major": 2,
       "version_minor": 0
      },
      "text/plain": [
       "JsmolView(layout=Layout(align_self='stretch', height='400px'))"
      ]
     },
     "metadata": {},
     "output_type": "display_data"
    }
   ],
   "source": [
    "view = quick_view(struct)\n",
    "display(view)"
   ]
  },
  {
   "cell_type": "code",
   "execution_count": null,
   "id": "patient-folder",
   "metadata": {},
   "outputs": [],
   "source": []
  }
 ],
 "metadata": {
  "kernelspec": {
   "display_name": "Python 3",
   "language": "python",
   "name": "python3"
  },
  "language_info": {
   "codemirror_mode": {
    "name": "ipython",
    "version": 3
   },
   "file_extension": ".py",
   "mimetype": "text/x-python",
   "name": "python",
   "nbconvert_exporter": "python",
   "pygments_lexer": "ipython3",
   "version": "3.6.8"
  }
 },
 "nbformat": 4,
 "nbformat_minor": 5
}
