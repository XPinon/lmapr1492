{
 "cells": [
  {
   "cell_type": "code",
   "execution_count": 43,
   "id": "latin-marketplace",
   "metadata": {},
   "outputs": [],
   "source": [
    "from pymatgen import Lattice, Structure\n",
    "from pymatgen.ext.matproj import MPRester\n",
    "from pymatgen.symmetry.analyzer import SpacegroupAnalyzer\n",
    "\n",
    "from jupyter_jsmol.pymatgen import quick_view"
   ]
  },
  {
   "cell_type": "code",
   "execution_count": 44,
   "id": "mysterious-fleece",
   "metadata": {},
   "outputs": [],
   "source": [
    "with MPRester(\"Ih2ES560GFCSedUz1\") as m:\n",
    "\n",
    "    # Structure for material id\n",
    "    structure = m.get_structure_by_material_id(\"mp-8176\")\n",
    "\n",
    "    # Dos for material id\n",
    "    dos = m.get_dos_by_material_id(\"mp-8176\")\n",
    "\n",
    "    # Bandstructure for material id\n",
    "    bandstructure = m.get_bandstructure_by_material_id(\"mp-8176\")\n",
    "    "
   ]
  },
  {
   "cell_type": "code",
   "execution_count": 67,
   "id": "forced-japanese",
   "metadata": {},
   "outputs": [
    {
     "name": "stdout",
     "output_type": "stream",
     "text": [
      "Vecteurs de base du réseau direct (a,b,c,alpha,beta,gamma) : \n",
      "(6.779885450061527, 6.779885450061527, 6.779885697730457, 30.320698857141025, 30.320698857141025, 30.320691733787935)\n",
      "\n",
      "\n",
      "Vecteurs de base du réseau réciproque : \n",
      "0.480077 -1.771824 -0.959678\n",
      "0.480077 1.771824 -0.959678\n",
      "0.000000 0.000000 2.071428\n",
      "\n",
      "\n",
      "Type de maille : rhombohedral\n",
      "\n",
      "Système cristallin : trigonal\n",
      "\n",
      "Groupe ponctuel : -3m\n",
      "\n"
     ]
    }
   ],
   "source": [
    "print(\"Vecteurs de base du réseau direct (a,b,c,alpha,beta,gamma) : \")\n",
    "print(structure.lattice.parameters)\n",
    "print(\"\\n\")\n",
    "print(\"Vecteurs de base du réseau réciproque : \")\n",
    "print(structure.lattice.reciprocal_lattice)\n",
    "print(\"\\n\")\n",
    "print(\"Type de maille : \"+SpacegroupAnalyzer(structure).get_lattice_type()+\"\\n\")\n",
    "print(\"Système cristallin : \"+SpacegroupAnalyzer(structure).get_crystal_system()+\"\\n\")\n",
    "print(\"Groupe ponctuel : \"+SpacegroupAnalyzer(structure).get_point_group_symbol()+\"\\n\")"
   ]
  },
  {
   "cell_type": "code",
   "execution_count": null,
   "id": "atomic-completion",
   "metadata": {},
   "outputs": [],
   "source": []
  },
  {
   "cell_type": "code",
   "execution_count": null,
   "id": "found-bangladesh",
   "metadata": {},
   "outputs": [],
   "source": []
  }
 ],
 "metadata": {
  "kernelspec": {
   "display_name": "Python 3",
   "language": "python",
   "name": "python3"
  }
 },
 "nbformat": 4,
 "nbformat_minor": 5
}
