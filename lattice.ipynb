{
 "cells": [
  {
   "cell_type": "code",
   "execution_count": 12,
   "id": "latin-marketplace",
   "metadata": {},
   "outputs": [],
   "source": [
    "from pymatgen import Lattice, Structure\n",
    "from pymatgen.ext.matproj import MPRester\n",
    "from pymatgen.symmetry.analyzer import SpacegroupAnalyzer\n",
    "\n",
    "from jupyter_jsmol.pymatgen import quick_view"
   ]
  },
  {
   "cell_type": "code",
   "execution_count": 13,
   "id": "mysterious-fleece",
   "metadata": {},
   "outputs": [],
   "source": [
    "with MPRester(\"Ih2ES560GFCSedUz1\") as m:\n",
    "\n",
    "    # Structure for material id\n",
    "    structure = m.get_structure_by_material_id(\"mp-8176\")    "
   ]
  },
  {
   "cell_type": "code",
   "execution_count": 14,
   "id": "forced-japanese",
   "metadata": {},
   "outputs": [
    {
     "name": "stdout",
     "output_type": "stream",
     "text": [
      "Cellule primitive : \n",
      "\n",
      "Vecteurs de base du réseau direct (a,b,c,alpha,beta,gamma) : \n",
      "(6.779885450061527, 6.779885450061527, 6.779885697730457, 30.320698857141025, 30.320698857141025, 30.320691733787935)\n",
      "\n",
      "\n",
      "Vecteurs de base du réseau réciproque : \n",
      "0.480077 -1.771824 -0.959678\n",
      "0.480077 1.771824 -0.959678\n",
      "0.000000 0.000000 2.071428\n",
      "\n",
      "\n",
      "Type de maille : rhombohedral\n",
      "\n",
      "Système cristallin : trigonal\n",
      "\n",
      "Groupe ponctuel : -3m\n",
      "\n"
     ]
    }
   ],
   "source": [
    "print(\"Cellule primitive : \\n\")\n",
    "print(\"Vecteurs de base du réseau direct (a,b,c,alpha,beta,gamma) : \")\n",
    "print(structure.lattice.parameters)\n",
    "print(\"\\n\")\n",
    "print(\"Vecteurs de base du réseau réciproque : \")\n",
    "print(structure.lattice.reciprocal_lattice)\n",
    "print(\"\\n\")\n",
    "print(\"Type de maille : \"+SpacegroupAnalyzer(structure).get_lattice_type()+\"\\n\")\n",
    "print(\"Système cristallin : \"+SpacegroupAnalyzer(structure).get_crystal_system()+\"\\n\")\n",
    "print(\"Groupe ponctuel : \"+SpacegroupAnalyzer(structure).get_point_group_symbol()+\"\\n\")"
   ]
  },
  {
   "cell_type": "code",
   "execution_count": 15,
   "id": "atomic-completion",
   "metadata": {},
   "outputs": [],
   "source": [
    "struct = Structure.from_file(\"RbTlO2_mp-8176_symmetrized.cif\")"
   ]
  },
  {
   "cell_type": "code",
   "execution_count": 16,
   "id": "found-bangladesh",
   "metadata": {},
   "outputs": [
    {
     "name": "stdout",
     "output_type": "stream",
     "text": [
      "Cellule conventionnelle : \n",
      "\n",
      "Vecteurs de base du réseau direct (a,b,c,alpha,beta,gamma) : \n",
      "(3.54616844, 3.5461684400000006, 19.39009272, 90.0, 90.0, 119.99999999999999)\n",
      "\n",
      "\n",
      "Vecteurs de base du réseau réciproque : \n",
      "1.771824 1.022963 0.000000\n",
      "0.000000 2.045926 0.000000\n",
      "-0.000000 -0.000000 0.324041\n",
      "\n",
      "\n",
      "Type de maille : rhombohedral\n",
      "\n",
      "Système cristallin : trigonal\n",
      "\n",
      "Groupe ponctuel : -3m\n",
      "\n"
     ]
    }
   ],
   "source": [
    "print(\"Cellule conventionnelle : \\n\")\n",
    "print(\"Vecteurs de base du réseau direct (a,b,c,alpha,beta,gamma) : \")\n",
    "print(struct.lattice.parameters)\n",
    "print(\"\\n\")\n",
    "print(\"Vecteurs de base du réseau réciproque : \")\n",
    "print(struct.lattice.reciprocal_lattice)\n",
    "print(\"\\n\")\n",
    "print(\"Type de maille : \"+SpacegroupAnalyzer(struct).get_lattice_type()+\"\\n\")\n",
    "print(\"Système cristallin : \"+SpacegroupAnalyzer(struct).get_crystal_system()+\"\\n\")\n",
    "print(\"Groupe ponctuel : \"+SpacegroupAnalyzer(struct).get_point_group_symbol()+\"\\n\")"
   ]
  }
 ],
 "metadata": {
  "kernelspec": {
   "display_name": "Python 3",
   "language": "python",
   "name": "python3"
  },
  "language_info": {
   "codemirror_mode": {
    "name": "ipython",
    "version": 3
   },
   "file_extension": ".py",
   "mimetype": "text/x-python",
   "name": "python",
   "nbconvert_exporter": "python",
   "pygments_lexer": "ipython3",
   "version": "3.6.8"
  }
 },
 "nbformat": 4,
 "nbformat_minor": 5
}
