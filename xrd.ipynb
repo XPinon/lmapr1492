{
 "cells": [
  {
   "cell_type": "code",
   "execution_count": 24,
   "id": "impressive-puppy",
   "metadata": {},
   "outputs": [],
   "source": [
    "from pymatgen import Lattice, Structure\n",
    "from pymatgen.analysis.diffraction.xrd import XRDCalculator\n",
    "\n",
    "from jupyter_jsmol.pymatgen import quick_view"
   ]
  },
  {
   "cell_type": "code",
   "execution_count": 25,
   "id": "accurate-service",
   "metadata": {},
   "outputs": [],
   "source": [
    "struct = Structure.from_file(\"RbTlO2_mp-8176_symmetrized.cif\")"
   ]
  },
  {
   "cell_type": "code",
   "execution_count": 44,
   "id": "cross-doctrine",
   "metadata": {},
   "outputs": [
    {
     "name": "stdout",
     "output_type": "stream",
     "text": [
      "DiffractionPattern\n",
      "$2\\Theta$: [13.70056508 27.6020334  29.44708834]\n",
      "Intensity: [100.          86.37155173  36.56553191] \n",
      "\n",
      "[[{'hkl': (0, 0, 0, 3), 'multiplicity': 2}], [{'hkl': (0, 0, 0, 6), 'multiplicity': 2}], [{'hkl': (1, 0, -1, 1), 'multiplicity': 12}]]\n"
     ]
    }
   ],
   "source": [
    "Diffract = XRDCalculator()\n",
    "xrd = Diffract.get_pattern(struct, two_theta_range=(0,30))\n",
    "print(xrd, \"\\n\")\n",
    "print(xrd.hkls)"
   ]
  },
  {
   "cell_type": "markdown",
   "id": "capital-latter",
   "metadata": {},
   "source": [
    "La radiation est celle d'une $CuK\\alpha$ par défaut pour la classe XRDCalculator, il n'est donc pas nécessaire de la préciser. Les 3 premiers pics de diffraction se trouvent dans l'intervalle d'angle [0°;30°]. On a 13.7° correspondant au hkl=(0,0,3), 27.6° pour hkl=(0,0,6) et 29.4° pour hkl=(1,0,1)."
   ]
  },
  {
   "cell_type": "code",
   "execution_count": null,
   "id": "substantial-cycle",
   "metadata": {},
   "outputs": [],
   "source": []
  }
 ],
 "metadata": {
  "kernelspec": {
   "display_name": "Python 3",
   "language": "python",
   "name": "python3"
  },
  "language_info": {
   "codemirror_mode": {
    "name": "ipython",
    "version": 3
   },
   "file_extension": ".py",
   "mimetype": "text/x-python",
   "name": "python",
   "nbconvert_exporter": "python",
   "pygments_lexer": "ipython3",
   "version": "3.6.8"
  }
 },
 "nbformat": 4,
 "nbformat_minor": 5
}
