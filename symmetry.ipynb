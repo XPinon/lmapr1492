{
 "cells": [
  {
   "cell_type": "code",
   "execution_count": 72,
   "id": "bizarre-validation",
   "metadata": {},
   "outputs": [],
   "source": [
    "from pymatgen import Lattice, Structure\n",
    "\n",
    "from jupyter_jsmol.pymatgen import quick_view"
   ]
  },
  {
   "cell_type": "code",
   "execution_count": 73,
   "id": "appointed-scheme",
   "metadata": {},
   "outputs": [],
   "source": [
    "struct = Structure.from_file(\"RbTlO2_mp-8176_symmetrized.cif\")"
   ]
  },
  {
   "cell_type": "code",
   "execution_count": 74,
   "id": "charged-orbit",
   "metadata": {},
   "outputs": [
    {
     "data": {
      "application/vnd.jupyter.widget-view+json": {
       "model_id": "992e57adc0a146029aaf3c4c19d98584",
       "version_major": 2,
       "version_minor": 0
      },
      "text/plain": [
       "JsmolView(layout=Layout(align_self='stretch', height='400px'))"
      ]
     },
     "metadata": {},
     "output_type": "display_data"
    }
   ],
   "source": [
    "view = quick_view(struct)\n",
    "display(view)\n",
    "view.script(\"draw symop 7 {atomno=7}\")"
   ]
  },
  {
   "cell_type": "markdown",
   "id": "continued-details",
   "metadata": {},
   "source": [
    "L'opération visualisée ici est une symétrie de rotation d'axe 2, d'équation (x, y, z) -> (y, x, -z). L'atome de thallium se trouvant en (0.66667, 0.33333, 0.33333) est envoyé sur la position (0.33333, 0.66667, -0.33333). La position équivalente dans la cellule de base est celle de l'atome #12, (0.33333, 0.66667, 0.66667)."
   ]
  },
  {
   "cell_type": "code",
   "execution_count": 75,
   "id": "pleased-operation",
   "metadata": {},
   "outputs": [
    {
     "data": {
      "application/vnd.jupyter.widget-view+json": {
       "model_id": "7541a9877af0412dbfaf0f2adc9aa412",
       "version_major": 2,
       "version_minor": 0
      },
      "text/plain": [
       "JsmolView(layout=Layout(align_self='stretch', height='400px'))"
      ]
     },
     "metadata": {},
     "output_type": "display_data"
    }
   ],
   "source": [
    "view = quick_view(struct)\n",
    "display(view)\n",
    "view.script(\"draw symop 13 {atomno=14}\")"
   ]
  },
  {
   "cell_type": "markdown",
   "id": "reasonable-harvest",
   "metadata": {},
   "source": [
    "L'opération visualisée ici est une symétrie de translation, d'équation (x, y, z) -> (x+2/3, y+1/3, z+1/3). L'atome de rubidium se trouvant en (0.33333, 0.66667, 0.16667) est envoyé sur la position (1, 1, 0.5) qui est exactement pareil que (0, 1, 0.5) par symétrie du cristal. La position équivalente dans la cellule de base est celle de l'atome #1, (0, 0, 0.5)."
   ]
  },
  {
   "cell_type": "code",
   "execution_count": 76,
   "id": "removable-banks",
   "metadata": {},
   "outputs": [
    {
     "data": {
      "application/vnd.jupyter.widget-view+json": {
       "model_id": "921dfd78ed1a42118df02abd8afc7d98",
       "version_major": 2,
       "version_minor": 0
      },
      "text/plain": [
       "JsmolView(layout=Layout(align_self='stretch', height='400px'))"
      ]
     },
     "metadata": {},
     "output_type": "display_data"
    }
   ],
   "source": [
    "view = quick_view(struct)\n",
    "display(view)\n",
    "view.script(\"draw symop 2 {atomno=8}\")"
   ]
  },
  {
   "cell_type": "markdown",
   "id": "expanded-tuesday",
   "metadata": {},
   "source": [
    "L'opération visualisée ici est une symétrie d'inversion de centre (0, 0, 0), d'équation (x, y, z) -> (-x, -y, -z3). L'atome d'oxygène se trouvant en (0.66667, 0.33333, 0.60489) est envoyé sur la position (-0.66667, -0.33333, -0.60489). La position équivalente dans la cellule de base est celle de l'atome #15, (0.33333, 0.66667, 0.39511)."
   ]
  },
  {
   "cell_type": "code",
   "execution_count": null,
   "id": "social-istanbul",
   "metadata": {},
   "outputs": [],
   "source": []
  }
 ],
 "metadata": {
  "kernelspec": {
   "display_name": "Python 3",
   "language": "python",
   "name": "python3"
  },
  "language_info": {
   "codemirror_mode": {
    "name": "ipython",
    "version": 3
   },
   "file_extension": ".py",
   "mimetype": "text/x-python",
   "name": "python",
   "nbconvert_exporter": "python",
   "pygments_lexer": "ipython3",
   "version": "3.6.8"
  }
 },
 "nbformat": 4,
 "nbformat_minor": 5
}
